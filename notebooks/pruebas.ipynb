{
 "cells": [
  {
   "cell_type": "code",
   "execution_count": null,
   "id": "1bc3f89d",
   "metadata": {},
   "outputs": [],
   "source": [
    "from src.config import *\n",
    "from data.data import *\n",
    "from src.model import *\n",
    "from src.metricas import *\n",
    "import tensorflow as tf\n",
    "import pandas as pd\n",
    "import numpy as np"
   ]
  },
  {
   "cell_type": "markdown",
   "id": "5febe4a9",
   "metadata": {},
   "source": [
    "# Prueba 1 U-Ignore"
   ]
  },
  {
   "cell_type": "code",
   "execution_count": null,
   "id": "adf90c2c",
   "metadata": {},
   "outputs": [],
   "source": [
    "\n",
    "#Creación de los dataSet  con enfoque U-Ignore\n",
    "df_train_ignore = crear_dataFrame_UIgnore('/train.csv', 0.5)\n",
    "train_dataset_ignore = obtener_dataset_Aug(df_train_ignore)\n",
    "\n",
    "df_valid_ignore = crear_dataFrame_UIgnore('/valid.csv', 1.0)\n",
    "valid_dataset_ignore = obtener_dataset_Aug(df_valid_ignore)"
   ]
  },
  {
   "cell_type": "code",
   "execution_count": null,
   "id": "ff4e74af",
   "metadata": {},
   "outputs": [],
   "source": [
    "model_J = crear_modelo_J()"
   ]
  },
  {
   "cell_type": "code",
   "execution_count": null,
   "id": "5228604e",
   "metadata": {},
   "outputs": [],
   "source": [
    "#Entra Modelo Jorge U-Ignore sin pesos por clase\n",
    "from tensorflow.keras.callbacks import EarlyStopping, ReduceLROnPlateau\n",
    "\n",
    "callbacks = [\n",
    "    #Corta el entrenamiento automáticamente si el modelo deja de mejorar.\n",
    "    EarlyStopping(monitor='val_auc', patience=4, mode='max', restore_best_weights=True),\n",
    "    #Reduce automáticamente el learning rate si la métrica no mejora.\n",
    "    #ReduceLROnPlateau(monitor='val_loss', factor=0.5, patience=1, mode='min')\n",
    "    ReduceLROnPlateau(\n",
    "    monitor='val_auc',     # Métrica a observar\n",
    "    factor=0.5,            # Cuánto se reduce el learning rate (a la mitad en este caso)\n",
    "    patience=2,            # Cuántas epochs esperar SIN mejora antes de reducir el LR\n",
    "    mode='max',            # Porque queremos que el AUC crezca\n",
    "    min_lr=1e-6,           # No baja más allá de este valor, máxima resolución del learing rate\n",
    "    verbose=1              # Muestra en consola cuando se reduce\n",
    ")\n",
    "]\n",
    "#Compilación:\n",
    "model_J.compile(optimizer=tf.keras.optimizers.Adam(learning_rate=1e-4), loss= re_loss_P1, metrics=[tf.keras.metrics.AUC(name='auc')])\n",
    "model_J.fit(train_dataset_ignore, epochs=9, validation_data= valid_dataset_ignore, callbacks = callbacks)"
   ]
  },
  {
   "cell_type": "markdown",
   "id": "c3d1b200",
   "metadata": {},
   "source": [
    "## Métricas\n",
    "Métricas para modelo_J con data Augmentation enfoque U-ignore, 40% datos"
   ]
  },
  {
   "cell_type": "code",
   "execution_count": null,
   "id": "1ddd41c8",
   "metadata": {},
   "outputs": [],
   "source": [
    "\n",
    "y_pred_probs = model_J.predict(valid_dataset_ignore)\n",
    "y_true = df_valid_ignore[LABEL_COLUMS].values\n",
    "y_pred = (y_pred_probs > umbrales(y_pred_probs)).astype(int)\n",
    "\n",
    "mostrar_metricas(y_true,y_pred_probs, y_pred)"
   ]
  },
  {
   "cell_type": "markdown",
   "id": "ffde728b",
   "metadata": {},
   "source": [
    "## Predicciones "
   ]
  },
  {
   "cell_type": "code",
   "execution_count": null,
   "id": "737bb17d",
   "metadata": {},
   "outputs": [],
   "source": [
    "# Selecciona un índice aleatorio del dataset de validación\n",
    "import random\n",
    "\n",
    "\n",
    "indice_aleatorio = random.randint(0, len(df_valid_ignore) - 1)\n",
    "ruta_imagen = df_valid_ignore.iloc[indice_aleatorio]['Path']\n",
    "etiqueta_real = df_valid_ignore.iloc[indice_aleatorio][LABEL_COLUMS].values\n",
    "\n",
    "# Preprocesa la imagen igual que en validación\n",
    "def cargar_y_preprocesar(path):\n",
    "    image = tf.io.read_file(path)\n",
    "    image = tf.image.decode_jpeg(image, channels=3)\n",
    "    image = tf.image.resize_with_pad(image, 150, 150)\n",
    "    image = tf.cast(image, tf.float32) / 255.0\n",
    "    return image\n",
    "\n",
    "imagen_proc = cargar_y_preprocesar(ruta_imagen).numpy()\n",
    "prediccion = model_J.predict(np.expand_dims(imagen_proc, axis=0))\n",
    "\n",
    "# Usa los mejores umbrales calculados previamente\n",
    "# Si no los tienes, usa 0.5 para todas las clases\n",
    "try:\n",
    "    umbrales_optimos = umbrales(prediccion)\n",
    "except NameError:\n",
    "    umbrales_optimos = [0.5] * len(LABEL_COLUMS)\n",
    "\n",
    "prediccion_clase = (prediccion[0] > umbrales_optimos).astype(int)\n",
    "\n",
    "# Muestra la imagen, la etiqueta real y la predicción\n",
    "plt.imshow(imagen_proc)\n",
    "plt.title(f\"Etiqueta real: {etiqueta_real.astype(int)}\\nPredicción: {prediccion_clase}\")\n",
    "plt.axis('off')\n",
    "plt.show()"
   ]
  },
  {
   "cell_type": "markdown",
   "id": "0a31082d",
   "metadata": {},
   "source": [
    "# Prueba 2 con pesos por clase\n"
   ]
  },
  {
   "cell_type": "code",
   "execution_count": null,
   "id": "11a2db5e",
   "metadata": {},
   "outputs": [],
   "source": [
    "#Creación de los dataSet  con enfoque U-Ignore\n",
    "df_train_ignore = crear_dataFrame_UIgnore('/train.csv', 0.5)\n",
    "train_dataset_ignore = obtener_dataset_Aug(df_train_ignore)\n",
    "\n",
    "df_valid_ignore = crear_dataFrame_UIgnore('/valid.csv', 1.0)\n",
    "valid_dataset_ignore = obtener_dataset_Aug(df_valid_ignore)"
   ]
  },
  {
   "cell_type": "code",
   "execution_count": null,
   "id": "92e5b131",
   "metadata": {},
   "outputs": [],
   "source": [
    "model_J = crear_modelo_J()"
   ]
  },
  {
   "cell_type": "code",
   "execution_count": null,
   "id": "226dc49a",
   "metadata": {},
   "outputs": [],
   "source": [
    "from tensorflow.keras.callbacks import EarlyStopping, ReduceLROnPlateau\n",
    "\n",
    "callbacks = [\n",
    "    #Corta el entrenamiento automáticamente si el modelo deja de mejorar.\n",
    "    EarlyStopping(monitor='val_auc', patience=4, mode='max', restore_best_weights=True),\n",
    "    #Reduce automáticamente el learning rate si la métrica no mejora.\n",
    "    #ReduceLROnPlateau(monitor='val_loss', factor=0.5, patience=1, mode='min')\n",
    "    ReduceLROnPlateau(\n",
    "    monitor='val_auc',     # Métrica a observar\n",
    "    factor=0.5,            # Cuánto se reduce el learning rate (a la mitad en este caso)\n",
    "    patience=2,            # Cuántas epochs esperar SIN mejora antes de reducir el LR\n",
    "    mode='max',            # Porque queremos que el AUC crezca\n",
    "    min_lr=1e-6,           # No baja más allá de este valor, máxima resolución del learing rate\n",
    "    verbose=1              # Muestra en consola cuando se reduce\n",
    ")\n",
    "]\n",
    "#Compilación:\n",
    "model_J.compile(optimizer=tf.keras.optimizers.Adam(learning_rate=1e-4), loss= re_loss_P, metrics=[tf.keras.metrics.AUC(name='auc')])\n",
    "model_J.fit(train_dataset_ignore, epochs=2, validation_data= valid_dataset_ignore, callbacks = callbacks)\n",
    "\n",
    "\n"
   ]
  },
  {
   "cell_type": "markdown",
   "id": "cbbbee11",
   "metadata": {},
   "source": [
    "## Métricas\n",
    "Métricas para modelo_J con data Augmentation y pesos por clase enfoque U-ignore, 40% datos"
   ]
  },
  {
   "cell_type": "code",
   "execution_count": null,
   "id": "cf67ddef",
   "metadata": {},
   "outputs": [],
   "source": [
    "y_pred_probs = model_J.predict(valid_dataset_ignore)\n",
    "y_true = df_valid_ignore[LABEL_COLUMS].values\n",
    "y_pred = (y_pred_probs > umbrales(y_pred_probs)).astype(int)\n",
    "\n",
    "mostrar_metricas(y_true,y_pred_probs, y_pred)"
   ]
  },
  {
   "cell_type": "markdown",
   "id": "b77c75be",
   "metadata": {},
   "source": [
    "## Predicción del modelo"
   ]
  },
  {
   "cell_type": "code",
   "execution_count": null,
   "id": "6ef10228",
   "metadata": {},
   "outputs": [],
   "source": [
    "# Mostrar una imagen de ejemplo con su predicción\n",
    "import matplotlib.pyplot as plt\n",
    "import matplotlib.image as mpimg\n",
    "import tensorflow as tf\n",
    "import numpy as np\n",
    "import random\n",
    "\n",
    "# Selecciona un índice aleatorio del dataset de validación\n",
    "indice_aleatorio = random.randint(0, len(df_valid_ignore) - 1)\n",
    "ruta_imagen = df_valid_ignore.iloc[indice_aleatorio]['Path']\n",
    "etiqueta_real = df_valid_ignore.iloc[indice_aleatorio][LABEL_COLUMS].values\n",
    "\n",
    "# Preprocesa la imagen igual que en validación\n",
    "def cargar_y_preprocesar(path):\n",
    "    image = tf.io.read_file(path)\n",
    "    image = tf.image.decode_jpeg(image, channels=3)\n",
    "    image = tf.image.resize_with_pad(image, 150, 150)\n",
    "    image = tf.cast(image, tf.float32) / 255.0\n",
    "    return image\n",
    "\n",
    "imagen_proc = cargar_y_preprocesar(ruta_imagen).numpy()\n",
    "prediccion = model_J.predict(np.expand_dims(imagen_proc, axis=0))\n",
    "\n",
    "# Usa los mejores umbrales calculados previamente \n",
    "# Si no los tienes, usa 0.5 para todas las clases\n",
    "try:\n",
    "    umbrales_optimos = umbrales(prediccion)\n",
    "except NameError:\n",
    "    umbrales_optimos = [0.5] * len(LABEL_COLUMS)\n",
    "\n",
    "prediccion_clase = (prediccion[0] > umbrales_optimos).astype(int)\n",
    "\n",
    "# Muestra la imagen, la etiqueta real y la predicción\n",
    "plt.imshow(imagen_proc)\n",
    "plt.title(f\"Etiqueta real: {etiqueta_real.astype(int)}\\nPredicción: {prediccion_clase}\")\n",
    "plt.axis('off')\n",
    "plt.show()\n"
   ]
  },
  {
   "cell_type": "markdown",
   "id": "667e57d8",
   "metadata": {},
   "source": [
    "# Prueba 3 Enfoque U-Zeroes"
   ]
  },
  {
   "cell_type": "code",
   "execution_count": null,
   "id": "dd2c14c1",
   "metadata": {},
   "outputs": [],
   "source": [
    "df_train_zeroes = crear_dataFrame_UZeroes('train.csv',0.2)\n",
    "train_dataset_zeroes = obtener_dataset(df_train_zeroes)\n",
    "\n",
    "df_valid_zeroes = crear_dataFrame_UZeroes('valid.csv', 1.0)\n",
    "valid_dataset_zeroes = obtener_dataset(df_valid_zeroes)\n"
   ]
  },
  {
   "cell_type": "code",
   "execution_count": null,
   "id": "5116fc07",
   "metadata": {},
   "outputs": [],
   "source": [
    "model_J = crear_modelo_J()"
   ]
  },
  {
   "cell_type": "code",
   "execution_count": null,
   "id": "a3e029c5",
   "metadata": {},
   "outputs": [],
   "source": [
    "from tensorflow.keras.callbacks import EarlyStopping, ReduceLROnPlateau\n",
    "#Entrenamiento del modelo\n",
    "callbacks = [\n",
    "    #Corta el entrenamiento automáticamente si el modelo deja de mejorar.\n",
    "    EarlyStopping(monitor='val_auc', patience=4, mode='max', restore_best_weights=True),\n",
    "    #Reduce automáticamente el learning rate si la métrica no mejora.\n",
    "    ReduceLROnPlateau(\n",
    "    monitor='val_auc',     # Métrica a observar\n",
    "    factor=0.5,            # Cuánto se reduce el learning rate (a la mitad en este caso)\n",
    "    patience=2,            # Cuántas epochs esperar SIN mejora antes de reducir el LR\n",
    "    mode='max',            # Porque queremos que el AUC crezca\n",
    "    min_lr=1e-6,           # No baja más allá de este valor, máxima resolución del learing rate\n",
    "    verbose=1              # Muestra en consola cuando se reduce\n",
    ")\n",
    "]\n",
    "#Compilación:\n",
    "model_J.compile(optimizer=tf.keras.optimizers.Adam(learning_rate=1e-4), loss= re_loss_, metrics=[tf.keras.metrics.AUC(name='auc')])\n",
    "model_J.fit(train_dataset_zeroes, epochs=9, validation_data= valid_dataset_zeroes, callbacks = callbacks)"
   ]
  },
  {
   "cell_type": "markdown",
   "id": "01248762",
   "metadata": {},
   "source": [
    "## Métricas"
   ]
  },
  {
   "cell_type": "code",
   "execution_count": null,
   "id": "372f3d80",
   "metadata": {},
   "outputs": [],
   "source": [
    "\n",
    "\n",
    "y_pred_probs = model_J.predict(valid_dataset_zeroes)\n",
    "y_true = df_valid_zeroes[LABEL_COLUMS].values\n",
    "y_pred = (y_pred_probs > umbrales(y_pred_probs)).astype(int)\n",
    "\n",
    "mostrar_metricas(y_true,y_pred_probs, y_pred)"
   ]
  },
  {
   "cell_type": "markdown",
   "id": "a72e8f57",
   "metadata": {},
   "source": [
    "# Prueba con Enfoque U-Zeroes balanceado"
   ]
  },
  {
   "cell_type": "code",
   "execution_count": null,
   "id": "33f60525",
   "metadata": {},
   "outputs": [],
   "source": [
    "df_train_zeroes = crear_dataFrame_UIgnore('train.csv',0.1)\n",
    "df_bal = balancear_dataset(df_train_zeroes, LABEL_COLUMS)\n",
    "train_dataset_zeroes = obtener_dataset(df_bal)\n",
    "\n",
    "df_valid_zeroes = crear_dataFrame_UIgnore('valid.csv', 1.0)\n",
    "valid_dataset_zeroes = obtener_dataset(df_valid_zeroes)\n",
    "\n",
    "# CANTIDAD DE POSITIVOS POR CLASE\n",
    "\n",
    "print(len(df_train_zeroes[LABEL_COLUMS]))\n",
    "print('Cantidades antes de balancear:')\n",
    "positivos_por_clase = (df_train_zeroes[LABEL_COLUMS]==1).sum().to_dict()\n",
    "print(\"Cantidad de positivos por clase:\")\n",
    "for clase, cantidad in positivos_por_clase.items():\n",
    "    print(f\"{clase}: {cantidad}\")\n",
    "\n",
    "print()\n",
    "print('Cantidades después de balancear:')\n",
    "positivos_por_clase = (df_bal[LABEL_COLUMS]==1).sum().to_dict()\n",
    "print(\"Cantidad de positivos por clase:\")\n",
    "for clase, cantidad in positivos_por_clase.items():\n",
    "    print(f\"{clase}: {cantidad}\")\n",
    "\n",
    "import matplotlib.pyplot as plt\n",
    "\n",
    "for image, label in train_dataset_zeroes.take(1):\n",
    "    plt.imshow(image[0].numpy())\n",
    "    plt.title(f\"Label: {label[0].numpy()}\")\n",
    "    plt.axis(\"off\")\n",
    "    plt.show()\n",
    "\n",
    "\n",
    "\n"
   ]
  },
  {
   "cell_type": "code",
   "execution_count": null,
   "id": "e4339421",
   "metadata": {},
   "outputs": [],
   "source": [
    "model_J = crear_modelo_J()"
   ]
  },
  {
   "cell_type": "code",
   "execution_count": null,
   "id": "3e7dbf7b",
   "metadata": {},
   "outputs": [],
   "source": [
    "from tensorflow.keras.callbacks import EarlyStopping, ReduceLROnPlateau\n",
    "#Entrenamiento del modelo\n",
    "callbacks = [\n",
    "    #Corta el entrenamiento automáticamente si el modelo deja de mejorar.\n",
    "    EarlyStopping(monitor='val_auc', patience=4, mode='max', restore_best_weights=True),\n",
    "    #Reduce automáticamente el learning rate si la métrica no mejora.\n",
    "    ReduceLROnPlateau(\n",
    "    monitor='val_auc',     # Métrica a observar\n",
    "    factor=0.5,            # Cuánto se reduce el learning rate (a la mitad en este caso)\n",
    "    patience=2,            # Cuántas epochs esperar SIN mejora antes de reducir el LR\n",
    "    mode='max',            # Porque queremos que el AUC crezca\n",
    "    min_lr=1e-6,           # No baja más allá de este valor, máxima resolución del learing rate\n",
    "    verbose=1              # Muestra en consola cuando se reduce\n",
    ")\n",
    "]\n",
    "#Compilación:\n",
    "model_J.compile(optimizer=tf.keras.optimizers.Adam(learning_rate=1e-4), loss= re_loss_, metrics=[tf.keras.metrics.AUC(name='auc')])\n",
    "model_J.fit(train_dataset_zeroes, epochs=9, validation_data= valid_dataset_zeroes, callbacks = callbacks)"
   ]
  },
  {
   "cell_type": "markdown",
   "id": "f64bedf0",
   "metadata": {},
   "source": [
    "## Métricas"
   ]
  },
  {
   "cell_type": "code",
   "execution_count": null,
   "id": "29966cf6",
   "metadata": {},
   "outputs": [],
   "source": [
    "y_pred_probs = model_J.predict(valid_dataset_zeroes)\n",
    "y_true = df_valid_zeroes[LABEL_COLUMS].values\n",
    "y_pred = (y_pred_probs > umbrales(y_pred_probs)).astype(int)\n",
    "\n",
    "mostrar_metricas(y_true,y_pred_probs, y_pred)"
   ]
  },
  {
   "cell_type": "markdown",
   "id": "0db3fbb9",
   "metadata": {},
   "source": [
    "# Prueba DenseNet\n"
   ]
  },
  {
   "cell_type": "code",
   "execution_count": null,
   "id": "0f09c148",
   "metadata": {},
   "outputs": [],
   "source": [
    "df_train_zeroes = crear_dataFrame_UZeroes('train.csv',0.05)\n",
    "train_dataset_zeroes = obtener_dataset(df_train_zeroes)\n",
    "\n",
    "df_valid_zeroes = crear_dataFrame_UZeroes('valid.csv', 1.0)\n",
    "valid_dataset_zeroes = obtener_dataset(df_valid_zeroes)\n"
   ]
  },
  {
   "cell_type": "code",
   "execution_count": null,
   "id": "83c8b471",
   "metadata": {},
   "outputs": [],
   "source": [
    "from tensorflow.keras import layers, Input, models\n",
    "# Modificar tamaño de entrada\n",
    "base_model = tf.keras.applications.DenseNet121(\n",
    "    input_shape = (200,200,3),\n",
    "    include_top=False,\n",
    "    weights='imagenet'\n",
    ")\n",
    "\n",
    "base_model.trainable = True\n",
    "\n",
    "model = tf.keras.Sequential([\n",
    "    base_model,\n",
    "    layers.GlobalAveragePooling2D(),\n",
    "    layers.Dense(1024, activation='relu'),\n",
    "    layers.Dense(5, activation='sigmoid')\n",
    "])\n"
   ]
  },
  {
   "cell_type": "code",
   "execution_count": null,
   "id": "fb7e60ee",
   "metadata": {},
   "outputs": [],
   "source": [
    "from tensorflow.keras.callbacks import EarlyStopping, ReduceLROnPlateau\n",
    "#Entrenamiento del modelo\n",
    "callbacks = [\n",
    "    #Corta el entrenamiento automáticamente si el modelo deja de mejorar.\n",
    "    EarlyStopping(monitor='val_auc', patience=4, mode='max', restore_best_weights=True),\n",
    "    #Reduce automáticamente el learning rate si la métrica no mejora.\n",
    "    ReduceLROnPlateau(\n",
    "    monitor='val_auc',     # Métrica a observar\n",
    "    factor=0.5,            # Cuánto se reduce el learning rate (a la mitad en este caso)\n",
    "    patience=2,            # Cuántas epochs esperar SIN mejora antes de reducir el LR\n",
    "    mode='max',            # Porque queremos que el AUC crezca\n",
    "    min_lr=1e-6,           # No baja más allá de este valor, máxima resolución del learing rate\n",
    "    verbose=1              # Muestra en consola cuando se reduce\n",
    ")\n",
    "]\n",
    "#Compilación:\n",
    "model.compile(optimizer=tf.keras.optimizers.Adam(learning_rate=1e-4), loss= re_loss_, metrics=[tf.keras.metrics.AUC(name='auc')])\n",
    "model.fit(train_dataset_zeroes, epochs=9, validation_data= valid_dataset_zeroes, callbacks = callbacks)"
   ]
  },
  {
   "cell_type": "markdown",
   "id": "3431b571",
   "metadata": {},
   "source": [
    "## Métricas"
   ]
  },
  {
   "cell_type": "code",
   "execution_count": null,
   "id": "16643e04",
   "metadata": {},
   "outputs": [],
   "source": [
    "y_pred_probs = model.predict(valid_dataset_zeroes)\n",
    "y_true = df_valid_zeroes[LABEL_COLUMS].values\n",
    "y_pred = (y_pred_probs > umbrales(y_pred_probs,y_true)).astype(int)\n",
    "\n",
    "mostrar_metricas(y_true,y_pred_probs, y_pred)"
   ]
  },
  {
   "cell_type": "markdown",
   "id": "e227ef65",
   "metadata": {},
   "source": [
    "## Predicciones"
   ]
  },
  {
   "cell_type": "code",
   "execution_count": null,
   "id": "0b19953f",
   "metadata": {},
   "outputs": [],
   "source": [
    "import random\n",
    "\n",
    "\n",
    "indice_aleatorio = random.randint(0, len(df_valid_ignore) - 1)\n",
    "ruta_imagen = df_valid_ignore.iloc[indice_aleatorio]['Path']\n",
    "etiqueta_real = df_valid_ignore.iloc[indice_aleatorio][LABEL_COLUMS].values\n",
    "\n",
    "# Preprocesa la imagen igual que en validación\n",
    "def cargar_y_preprocesar(path):\n",
    "    image = tf.io.read_file(path)\n",
    "    image = tf.image.decode_jpeg(image, channels=3)\n",
    "    image = tf.image.resize_with_pad(image, 150, 150)\n",
    "    image = tf.cast(image, tf.float32) / 255.0\n",
    "    return image\n",
    "\n",
    "imagen_proc = cargar_y_preprocesar(ruta_imagen).numpy()\n",
    "prediccion = model_J.predict(np.expand_dims(imagen_proc, axis=0))\n",
    "\n",
    "# Usa los mejores umbrales calculados previamente (por ejemplo, mejores_umbrales)\n",
    "# Si no los tienes, usa 0.5 para todas las clases\n",
    "try:\n",
    "    umbrales_optimos = umbrales(prediccion)\n",
    "except NameError:\n",
    "    umbrales_optimos = [0.5] * len(LABEL_COLUMS)\n",
    "\n",
    "prediccion_clase = (prediccion[0] > umbrales_optimos).astype(int)\n",
    "\n",
    "# Muestra la imagen, la etiqueta real y la predicción\n",
    "plt.imshow(imagen_proc)\n",
    "plt.title(f\"Etiqueta real: {etiqueta_real.astype(int)}\\nPredicción: {prediccion_clase}\")\n",
    "plt.axis('off')\n",
    "plt.show()"
   ]
  }
 ],
 "metadata": {
  "kernelspec": {
   "display_name": ".entorno",
   "language": "python",
   "name": "python3"
  },
  "language_info": {
   "codemirror_mode": {
    "name": "ipython",
    "version": 3
   },
   "file_extension": ".py",
   "mimetype": "text/x-python",
   "name": "python",
   "nbconvert_exporter": "python",
   "pygments_lexer": "ipython3",
   "version": "3.12.3"
  }
 },
 "nbformat": 4,
 "nbformat_minor": 5
}
